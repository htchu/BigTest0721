{
 "cells": [
  {
   "cell_type": "code",
   "execution_count": 1,
   "metadata": {},
   "outputs": [
    {
     "name": "stderr",
     "output_type": "stream",
     "text": [
      "D:\\Anaconda3\\lib\\site-packages\\ipykernel_launcher.py:10: FutureWarning: read_table is deprecated, use read_csv instead, passing sep='\\t'.\n",
      "  # Remove the CWD from sys.path while we load stuff.\n"
     ]
    },
    {
     "name": "stdout",
     "output_type": "stream",
     "text": [
      "G11-1-AC(7X15)20160126-002Export.txt\t(253, 5)\n",
      "G11-1-AC(7X15)20160311-003_Export.txt\t(251, 6)\n",
      "G11-1-AC(7X15)20160428-002_Export.txt\t(243, 6)\n",
      "G11-1-AC(7X15)20160509-001_Export.txt\t(257, 5)\n",
      "G11-1-AC(7X15)20160511-002_Export.txt\t(258, 6)\n",
      "G11-1-AC(7X15)20160517-002_Export.txt\t(267, 6)\n",
      "G11-1-AC(7x15)20160518-004_Export.txt\t(245, 5)\n",
      "G11-1-AC(7X15)20160526-003_Export.txt\t(249, 8)\n",
      "G11-1-AC(7x15)20160531-002_Export.txt\t(267, 8)\n",
      "G11-1-AC(7X15)20160602-001_Export.txt\t(302, 6)\n",
      "G11-1-AC(7X15)20160604-001_Export.txt\t(255, 6)\n",
      "G11-1-AC(7X15)20160613-001_Export.txt\t(255, 6)\n",
      "G11-1-AC(7X15)20160617-001_Export.txt\t(260, 8)\n",
      "G11-1-AC(7X15)20160620-002_Export.txt\t(260, 6)\n",
      "G11-1-AC(7X15)20160621-002_Export.txt\t(284, 5)\n",
      "G11-1-AC(7X15)20160704-001_Export.txt\t(261, 8)\n",
      "G11-1-AC(7X15)20160706-001_Export.txt\t(314, 6)\n",
      "G11-1-AC(7X15)20160706-004_Export.txt\t(291, 5)\n",
      "G11-1-AC(7X15)20160709-001_Export.txt\t(272, 8)\n",
      "G11-1-AC(7X15)20160713-001_Export.txt\t(253, 6)\n",
      "G11-1-AC(7X15)20160714-003_Export.txt\t(289, 8)\n",
      "G11-1-AC(7X15)20160725-002_Export.txt\t(267, 6)\n",
      "G11-1-AC(7X15)20160808-002_Export.txt\t(291, 6)\n",
      "...................................................\n",
      "All G11 txt shape:(145, 1)\n"
     ]
    }
   ],
   "source": [
    "import pandas as pd\n",
    "import numpy as np\n",
    "import os\n",
    "\n",
    "G11='thubigdata2019training-230/大數據競賽初賽資料(230測試數據)/G11/'\n",
    "G11_path=os.listdir(G11)\n",
    "G11_dat_list=list()\n",
    "for i in G11_path:\n",
    "    #print(G11+i)\n",
    "    G11_dat=pd.read_table(G11+i,delim_whitespace=True)\n",
    "    G11_dat=G11_dat.drop([0])\n",
    "    print(i+'\\t'+str(G11_dat.shape))                        #G11-1-AC(7X15)20160126-002Export.txt\t(253, 5)  max:(314,6),min:(243,6)\n",
    "    for j in G11_dat:\n",
    "        G11_dat_list.append([G11_dat[j]])\n",
    "        #print(G11_dat[j])\n",
    "\n",
    "print('...................................................')\n",
    "print('All G11 txt shape:'+str(np.array(G11_dat_list).shape))"
   ]
  },
  {
   "cell_type": "code",
   "execution_count": 2,
   "metadata": {},
   "outputs": [
    {
     "name": "stderr",
     "output_type": "stream",
     "text": [
      "Using TensorFlow backend.\n"
     ]
    }
   ],
   "source": [
    "from keras.preprocessing import sequence\n",
    "\n",
    "x_train=list()\n",
    "\n",
    "for i in G11_dat_list:\n",
    "  x_train.append(sequence.pad_sequences(i,dtype='float64',maxlen=314))\n",
    "#print(x_train[0])\n",
    "#print(len(x_train))"
   ]
  },
  {
   "cell_type": "code",
   "execution_count": null,
   "metadata": {},
   "outputs": [],
   "source": []
  }
 ],
 "metadata": {
  "kernelspec": {
   "display_name": "Python 3",
   "language": "python",
   "name": "python3"
  },
  "language_info": {
   "codemirror_mode": {
    "name": "ipython",
    "version": 3
   },
   "file_extension": ".py",
   "mimetype": "text/x-python",
   "name": "python",
   "nbconvert_exporter": "python",
   "pygments_lexer": "ipython3",
   "version": "3.7.3"
  }
 },
 "nbformat": 4,
 "nbformat_minor": 2
}
